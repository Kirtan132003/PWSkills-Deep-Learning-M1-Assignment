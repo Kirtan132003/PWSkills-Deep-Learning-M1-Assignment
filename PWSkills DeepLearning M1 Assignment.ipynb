{
 "cells": [
  {
   "cell_type": "markdown",
   "id": "1e4e9e7f-86b0-4b7b-b484-85a8523c0862",
   "metadata": {},
   "source": [
    "### Theory Questions"
   ]
  },
  {
   "cell_type": "raw",
   "id": "0ff47b96-4079-4007-abce-99e4ba5f2104",
   "metadata": {},
   "source": [
    "1) What is deep learning, and how is it connected to artificial intelligence?\n",
    "Deep learning is a subset of machine learning, which itself is a branch of artificial intelligence (AI). Deep learning uses neural networks with many layers (hence \"deep\") to learn complex patterns and representations from data. It's particularly powerful in tasks like image recognition, natural language processing, and speech recognition.\n",
    "\n",
    "2) What is a neural network, and what are the different types of neural networks?\n",
    "A neural network is a computational model inspired by the structure of the human brain. It consists of layers of interconnected nodes (neurons) that process data through weighted connections.\n",
    "\n",
    "Types of Neural Networks:\n",
    "\n",
    "Feedforward Neural Network (FNN) – Simple, linear flow from input to output.\n",
    "\n",
    "Convolutional Neural Network (CNN) – Best for image and spatial data.\n",
    "\n",
    "Recurrent Neural Network (RNN) – Good for sequential data like text and time series.\n",
    "\n",
    "Long Short-Term Memory (LSTM) – A type of RNN that avoids vanishing gradients.\n",
    "\n",
    "Generative Adversarial Network (GAN) – Used for generating data (e.g., deepfakes).\n",
    "\n",
    "Autoencoders – Used for unsupervised learning and data compression.\n",
    "\n",
    "3) What is the mathematical structure of a neural network?\n",
    "At a high level, a neural network performs:\n",
    "\n",
    "Linear Transformation: z = W* x+b\n",
    "\n",
    "Non-linear Activation: a = sigma(z)\n",
    "\n",
    "\n",
    "Where:\n",
    "x = input vector\n",
    "W = weight matrix\n",
    "b = bias vector\n",
    "σ = activation function\n",
    "\n",
    "Layers are stacked so that the output of one becomes the input to the next.\n",
    "\n",
    "4) What is an activation function, and why is it essential in neural network?\n",
    "An activation function introduces non-linearity into the network. Without it, the neural network would be equivalent to a linear model regardless of the number of layers. This non-linearity allows the model to learn complex functions and patterns.\n",
    "\n",
    "5) Could you list some common activation functions used in neural networks?\n",
    "Yes, common activation functions include:\n",
    "\n",
    "ReLU (Rectified Linear Unit): \n",
    "Sigmoid:\n",
    "Tanh:\n",
    "Leaky ReLU: \n",
    "Softmax: \n",
    "\n",
    "6) What is a multilayer neural network?\n",
    "A multilayer neural network (also called a Multilayer Perceptron or MLP) is a network with one or more hidden layers between the input and output layers. These hidden layers allow the network to model complex relationships\n",
    "\n",
    "7) What is a loss function, and why is it crucial for neural network training?\n",
    "A loss function measures how far the network’s predictions are from the actual target values. It provides a signal to the learning algorithm on how to adjust weights during training. Lower loss means better model performance.\n",
    "\n",
    "8) What are some common types of loss functions?\n",
    "Mean Squared Error (MSE): For regression problems.\n",
    "Binary Cross-Entropy: For binary classification.\n",
    "Categorical Cross-Entropy: For multi-class classification.\n",
    "Hinge Loss: Often used in SVMs.\n",
    "\n",
    "9) How does a neural network learn?\n",
    "A neural network learns through:\n",
    "Forward Propagation: Compute predictions.\n",
    "Loss Calculation: Compare predictions with actual values.\n",
    "Backward Propagation: Compute gradients of the loss with respect to weights\n",
    "Weight Update: Adjust weights using an optimizer.\n",
    "\n",
    "10) What is an optimizer in neural networks, and why is it necessary?\n",
    "An optimizer updates the model weights to minimize the loss function using gradients computed during backpropagation. It determines how fast and effectively the model learns.\n",
    "\n",
    "11) Could you briefly describe some common optimizers?\n",
    "Stochastic Gradient Descent (SGD) – Basic optimizer with fixed learning rate.\n",
    "Momentum – Adds momentum to SGD to accelerate convergence.\n",
    "Adam (Adaptive Moment Estimation) – Combines momentum and adaptive learning rates (most commonly used).\n",
    "RMSprop – Adapts learning rates for each parameter.\n",
    "\n",
    "12) Can you explain forward and backward propagation in a neural network?\n",
    "Forward Propagation: Inputs pass through layers to compute predictions.\n",
    "\n",
    "Backward Propagation: Calculates the gradient of the loss with respect to each weight using the chain rule, and updates the weights accordingly.\n",
    "\n",
    "13) What is weight initialization, and how does it impact training?\n",
    "Weight initialization sets the starting values of the weights before training begins. Poor initialization (like setting all weights to zero) can lead to slow or failed learning. Good strategies (e.g., Xavier, He initialization) help in faster and more stable convergence.\n",
    "\n",
    "14) What is the vanishing gradient problem in deep learning?\n",
    "When gradients become very small, early layers in the network learn very slowly or stop learning entirely. This typically happens with sigmoid/tanh activations in deep networks, hindering learning.\n",
    "\n",
    "15) What is the exploding gradient problem?\n",
    "When gradients become too large, weight updates are huge and destabilize training. This usually leads to numerical overflow or very poor performance. Techniques like gradient clipping are used to mitigate this."
   ]
  },
  {
   "cell_type": "markdown",
   "id": "98f19aba-26fc-4880-b895-237ed1d65ecb",
   "metadata": {},
   "source": [
    "### Practical Questions"
   ]
  },
  {
   "cell_type": "code",
   "execution_count": 1,
   "id": "5ec2d976-d23c-4eb0-aeea-ecdec487480e",
   "metadata": {},
   "outputs": [
    {
     "name": "stderr",
     "output_type": "stream",
     "text": [
      "C:\\Users\\kirtan\\AppData\\Local\\Programs\\Python\\Python312\\Lib\\site-packages\\keras\\src\\layers\\core\\dense.py:93: UserWarning: Do not pass an `input_shape`/`input_dim` argument to a layer. When using Sequential models, prefer using an `Input(shape)` object as the first layer in the model instead.\n",
      "  super().__init__(activity_regularizer=activity_regularizer, **kwargs)\n"
     ]
    },
    {
     "name": "stdout",
     "output_type": "stream",
     "text": [
      "\u001b[1m1/1\u001b[0m \u001b[32m━━━━━━━━━━━━━━━━━━━━\u001b[0m\u001b[37m\u001b[0m \u001b[1m0s\u001b[0m 48ms/step\n",
      "[[0.]\n",
      " [1.]\n",
      " [0.]\n",
      " [0.]]\n"
     ]
    }
   ],
   "source": [
    "### 1) How do you create a simple perceptron for basic binary classification?\n",
    "import numpy as np\n",
    "from keras.models import Sequential \n",
    "from keras.layers import Dense\n",
    "\n",
    "X = np.array([[0,0],[0,1],[1,0],[1,1]])\n",
    "y = np.array([0,0,0,1])\n",
    "\n",
    "model = Sequential()\n",
    "model.add(Dense(1,input_dim=2,activation='sigmoid'))\n",
    "\n",
    "model.compile(optimizer='sgd',loss='binary_crossentropy',metrics=['accuracy'])\n",
    "model.fit(X,y,epochs=100,verbose=0)\n",
    "\n",
    "print(model.predict(X).round())"
   ]
  },
  {
   "cell_type": "code",
   "execution_count": 2,
   "id": "1de771b3-cd9f-4c1c-b59c-f756b2876b2c",
   "metadata": {},
   "outputs": [
    {
     "data": {
      "text/plain": [
       "<keras.src.callbacks.history.History at 0x20876524b30>"
      ]
     },
     "execution_count": 2,
     "metadata": {},
     "output_type": "execute_result"
    }
   ],
   "source": [
    "### 2) How can you build a neural network with one hidden layer using Keras?\n",
    "\n",
    "model = Sequential()\n",
    "model.add(Dense(8, input_dim=2, activation='relu')) \n",
    "model.add(Dense(1, activation='sigmoid'))           \n",
    "\n",
    "model.compile(optimizer='adam', loss='binary_crossentropy', metrics=['accuracy'])\n",
    "model.fit(X, y, epochs=100, verbose=0)"
   ]
  },
  {
   "cell_type": "code",
   "execution_count": 3,
   "id": "56686250-ac6e-4439-b7fb-88f6a0f83849",
   "metadata": {},
   "outputs": [],
   "source": [
    "### 3) How do you initialize weights using the Xavier (Glorot) initialization method in Keras?\n",
    "\n",
    "from keras.initializers import GlorotUniform\n",
    "\n",
    "model = Sequential()\n",
    "model.add(Dense(8, input_dim=2, activation='relu', kernel_initializer=GlorotUniform()))"
   ]
  },
  {
   "cell_type": "code",
   "execution_count": 4,
   "id": "d86ab62d-a7c1-4908-9ff3-6c43add5a328",
   "metadata": {},
   "outputs": [],
   "source": [
    "### 4) How can you apply different activation functions in a neural network in Keras?\n",
    "\n",
    "model = Sequential()\n",
    "model.add(Dense(16, input_dim=2, activation='tanh'))\n",
    "model.add(Dense(1, activation='sigmoid'))"
   ]
  },
  {
   "cell_type": "code",
   "execution_count": 5,
   "id": "c97665ad-68b1-428a-8d40-c310fcfb56ca",
   "metadata": {},
   "outputs": [],
   "source": [
    "### 5) How do you add dropout to a neural network model to prevent overfitting?\n",
    "from keras.layers import Dropout\n",
    "\n",
    "model = Sequential()\n",
    "model.add(Dense(16, input_dim=2, activation='relu'))\n",
    "model.add(Dropout(0.5))  \n",
    "model.add(Dense(1, activation='sigmoid'))"
   ]
  },
  {
   "cell_type": "code",
   "execution_count": 6,
   "id": "5bf49763-b831-4239-a6e5-4a27cd6b8433",
   "metadata": {},
   "outputs": [
    {
     "name": "stdout",
     "output_type": "stream",
     "text": [
      "Output: [[0.64565631]]\n"
     ]
    }
   ],
   "source": [
    "### 6) How do you manually implement forward propagation in a simple neural network?\n",
    "\n",
    "def sigmoid(x):\n",
    "    return 1 / (1 + np.exp(-x))\n",
    "\n",
    "X = np.array([[1, 0]])\n",
    "weights = np.array([[0.5], [0.5]])\n",
    "bias = 0.1\n",
    "\n",
    "z = np.dot(X, weights) + bias\n",
    "a = sigmoid(z)\n",
    "print(\"Output:\", a)"
   ]
  },
  {
   "cell_type": "code",
   "execution_count": 7,
   "id": "d234ae5b-3fcf-4a26-be53-b6b082d6b317",
   "metadata": {},
   "outputs": [],
   "source": [
    "### 7) How do you add batch normalization to a neural network model in Keras?\n",
    "\n",
    "from keras.layers import BatchNormalization\n",
    "\n",
    "model = Sequential()\n",
    "model.add(Dense(16, input_dim=2, activation='relu'))\n",
    "model.add(BatchNormalization())\n",
    "model.add(Dense(1, activation='sigmoid'))"
   ]
  },
  {
   "cell_type": "code",
   "execution_count": 8,
   "id": "a59b09ff-2d67-4cde-a271-8e8580ae47c9",
   "metadata": {},
   "outputs": [
    {
     "data": {
      "image/png": "[encoded data removed]",
      "text/plain": [
       "<Figure size 640x480 with 1 Axes>"
      ]
     },
     "metadata": {},
     "output_type": "display_data"
    }
   ],
   "source": [
    "### 8) How can you visualize the training process with accuracy and loss curves?\n",
    "\n",
    "from keras.models import Sequential\n",
    "from keras.layers import Dense\n",
    "import numpy as np\n",
    "import matplotlib.pyplot as plt\n",
    "\n",
    "# Sample data: AND logic gate\n",
    "X = np.array([[0, 0], [0, 1], [1, 0], [1, 1]])\n",
    "y = np.array([0, 0, 0, 1])\n",
    "\n",
    "# Build model\n",
    "model = Sequential()\n",
    "model.add(Dense(4, input_dim=2, activation='relu'))\n",
    "model.add(Dense(1, activation='sigmoid'))\n",
    "\n",
    "# Compile the model\n",
    "model.compile(optimizer='adam', loss='binary_crossentropy', metrics=['accuracy'])\n",
    "\n",
    "# Train the model\n",
    "history = model.fit(X, y, epochs=100, verbose=0, validation_split=0.25)\n",
    "\n",
    "# Plot accuracy and loss\n",
    "plt.plot(history.history['accuracy'], label='Train Accuracy')\n",
    "plt.plot(history.history['val_accuracy'], label='Val Accuracy')\n",
    "plt.plot(history.history['loss'], label='Train Loss')\n",
    "plt.plot(history.history['val_loss'], label='Val Loss')\n",
    "plt.xlabel(\"Epochs\")\n",
    "plt.ylabel(\"Value\")\n",
    "plt.title(\"Training vs Validation Metrics\")\n",
    "plt.legend()\n",
    "plt.grid(True)\n",
    "plt.show()\n"
   ]
  },
  {
   "cell_type": "code",
   "execution_count": 9,
   "id": "7c624702-90d8-4513-929f-0286429af5af",
   "metadata": {},
   "outputs": [],
   "source": [
    "### 9) How can you use gradient clipping in Keras to control the gradient size and prevent exploding gradients?\n",
    "from keras.optimizers import Adam\n",
    "\n",
    "optimizer = Adam(learning_rate=0.01, clipnorm=1.0)\n",
    "\n",
    "model.compile(optimizer=optimizer, loss='binary_crossentropy', metrics=['accuracy'])"
   ]
  },
  {
   "cell_type": "code",
   "execution_count": 10,
   "id": "dc407ed9-1a2a-4958-bb9a-fed5a2727651",
   "metadata": {},
   "outputs": [],
   "source": [
    "### 10) How can you create a custom loss function in Keras?\n",
    "\n",
    "import tensorflow.keras.backend as K\n",
    "\n",
    "def custom_mse(y_true, y_pred):\n",
    "    return K.mean(K.square(y_pred - y_true), axis=-1)\n",
    "\n",
    "model.compile(optimizer='adam', loss=custom_mse, metrics=['accuracy'])"
   ]
  },
  {
   "cell_type": "code",
   "execution_count": 11,
   "id": "dc41c020-7b62-43bb-8454-f3fd7f59d9e3",
   "metadata": {},
   "outputs": [
    {
     "name": "stdout",
     "output_type": "stream",
     "text": [
      "You must install graphviz (see instructions at https://graphviz.gitlab.io/download/) for `plot_model` to work.\n"
     ]
    }
   ],
   "source": [
    "### 11) How can you visualize the structure of a neural network model in Keras?\n",
    "\n",
    "from keras.utils import plot_model\n",
    "plot_model(model, to_file='model.png', show_shapes=True, show_layer_names=True)"
   ]
  },
  {
   "cell_type": "code",
   "execution_count": 12,
   "id": "e0f85bde-3a9f-4c84-ae21-9d6e8ed8ac9c",
   "metadata": {},
   "outputs": [
    {
     "name": "stdout",
     "output_type": "stream",
     "text": [
      "Requirement already satisfied: pydot in c:\\users\\kirtan\\appdata\\local\\programs\\python\\python312\\lib\\site-packages (4.0.0)\n",
      "Requirement already satisfied: pyparsing>=3.0.9 in c:\\users\\kirtan\\appdata\\local\\programs\\python\\python312\\lib\\site-packages (from pydot) (3.2.1)\n",
      "Note: you may need to restart the kernel to use updated packages.\n"
     ]
    },
    {
     "name": "stderr",
     "output_type": "stream",
     "text": [
      "\n",
      "[notice] A new release of pip is available: 24.3.1 -> 25.1.1\n",
      "[notice] To update, run: python.exe -m pip install --upgrade pip\n"
     ]
    }
   ],
   "source": [
    "pip install pydot"
   ]
  },
  {
   "cell_type": "code",
   "execution_count": 13,
   "id": "b299682d-6c5d-4c1c-8686-a4f507203966",
   "metadata": {},
   "outputs": [
    {
     "name": "stdout",
     "output_type": "stream",
     "text": [
      "You must install graphviz (see instructions at https://graphviz.gitlab.io/download/) for `plot_model` to work.\n"
     ]
    }
   ],
   "source": [
    "### 11) How can you visualize the structure of a neural network model in Keras?\n",
    "\n",
    "from keras.utils import plot_model\n",
    "plot_model(model, to_file='model.png', show_shapes=True, show_layer_names=True)"
   ]
  },
  {
   "cell_type": "code",
   "execution_count": 14,
   "id": "10e5427e-b020-44f6-8bff-09d9cc38237f",
   "metadata": {},
   "outputs": [
    {
     "name": "stdout",
     "output_type": "stream",
     "text": [
      "Requirement already satisfied: pydot in c:\\users\\kirtan\\appdata\\local\\programs\\python\\python312\\lib\\site-packages (4.0.0)\n",
      "Requirement already satisfied: pyparsing>=3.0.9 in c:\\users\\kirtan\\appdata\\local\\programs\\python\\python312\\lib\\site-packages (from pydot) (3.2.1)\n",
      "Note: you may need to restart the kernel to use updated packages.\n"
     ]
    },
    {
     "name": "stderr",
     "output_type": "stream",
     "text": [
      "\n",
      "[notice] A new release of pip is available: 24.3.1 -> 25.1.1\n",
      "[notice] To update, run: python.exe -m pip install --upgrade pip\n"
     ]
    }
   ],
   "source": []
  }
 ],
 "metadata": {
  "kernelspec": {
   "display_name": "Python 3 (ipykernel)",
   "language": "python",
   "name": "python3"
  },
  "language_info": {
   "codemirror_mode": {
    "name": "ipython",
    "version": 3
   },
   "file_extension": ".py",
   "mimetype": "text/x-python",
   "name": "python",
   "nbconvert_exporter": "python",
   "pygments_lexer": "ipython3",
   "version": "3.12.3"
  }
 },
 "nbformat": 4,
 "nbformat_minor": 5
}
